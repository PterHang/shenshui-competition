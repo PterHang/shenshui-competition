{
 "cells": [
  {
   "cell_type": "code",
   "execution_count": 8,
   "metadata": {
    "collapsed": true
   },
   "outputs": [
    {
     "data": {
      "text/plain": "                     time  flow_1  flow_2  flow_3  flow_4  flow_5  flow_6  \\\n0     2022-01-01 01:00:00    29.7    14.6    54.7    40.1     3.0    49.7   \n1     2022-01-01 02:00:00    21.9     9.0    38.0    27.7     2.4    30.2   \n2     2022-01-01 03:00:00    16.9     4.5    28.9    22.9     1.3    19.7   \n3     2022-01-01 04:00:00    14.3     3.2    25.5    20.0     1.5    15.4   \n4     2022-01-01 05:00:00    14.9     3.5    26.4    20.6     1.2    17.5   \n...                   ...     ...     ...     ...     ...     ...     ...   \n5059  2022-08-20 20:00:00    68.3    31.1   104.6    67.0     9.4   119.0   \n5060  2022-08-20 21:00:00    84.5    41.9   118.2    76.2    10.4   153.0   \n5061  2022-08-20 22:00:00    79.9    44.0   118.2    83.4    11.4   157.3   \n5062  2022-08-20 23:00:00    66.5    32.7   108.6    98.6     7.0   117.0   \n5063  2022-08-21 00:00:00    23.0    19.9    91.2    53.0     4.5    64.4   \n\n      flow_7  flow_8  flow_9  ...  flow_12  flow_13  flow_14  flow_15  \\\n0       10.9     1.1     5.0  ...    2.914      1.7      3.2      1.3   \n1        6.4     0.4     2.6  ...    1.108      1.3      2.2      0.8   \n2        3.8     0.5     1.4  ...    0.772      0.6      1.5      0.6   \n3        2.7     0.4     1.2  ...    0.414      0.2      1.2      0.7   \n4        2.2     0.5     1.2  ...    0.279      0.8      1.1      0.4   \n...      ...     ...     ...  ...      ...      ...      ...      ...   \n5059    26.5     3.9    11.7  ...    5.012      4.3      5.3      3.4   \n5060    35.9     4.6    16.0  ...    7.700      7.2      8.0      5.0   \n5061    36.8     5.2    15.9  ...    8.960      7.8      7.8      4.3   \n5062    27.0     3.8    13.0  ...    7.584      6.9      7.3      4.0   \n5063    17.6     2.5     6.7  ...    4.480      5.0      3.1      3.0   \n\n      flow_16  flow_17  flow_18  flow_19  flow_20  train or test  \n0         3.5      6.8    2.902    1.806      1.4          train  \n1         2.3      4.5    2.269    0.677      0.8          train  \n2         1.1      2.4    1.055    0.568      0.5          train  \n3         0.8      1.8    0.677    0.284      0.2          train  \n4         0.9      1.9    0.891    0.483      0.3          train  \n...       ...      ...      ...      ...      ...            ...  \n5059      8.4     14.4   12.248    4.228      4.2          train  \n5060     11.9     17.6   16.336    6.544      5.7          train  \n5061     12.2     20.4   15.328    7.000      6.4          train  \n5062     11.5     15.8   15.032    5.692      5.1          train  \n5063      5.4      8.9    9.632    3.048      3.2          train  \n\n[5064 rows x 22 columns]",
      "text/html": "<div>\n<style scoped>\n    .dataframe tbody tr th:only-of-type {\n        vertical-align: middle;\n    }\n\n    .dataframe tbody tr th {\n        vertical-align: top;\n    }\n\n    .dataframe thead th {\n        text-align: right;\n    }\n</style>\n<table border=\"1\" class=\"dataframe\">\n  <thead>\n    <tr style=\"text-align: right;\">\n      <th></th>\n      <th>time</th>\n      <th>flow_1</th>\n      <th>flow_2</th>\n      <th>flow_3</th>\n      <th>flow_4</th>\n      <th>flow_5</th>\n      <th>flow_6</th>\n      <th>flow_7</th>\n      <th>flow_8</th>\n      <th>flow_9</th>\n      <th>...</th>\n      <th>flow_12</th>\n      <th>flow_13</th>\n      <th>flow_14</th>\n      <th>flow_15</th>\n      <th>flow_16</th>\n      <th>flow_17</th>\n      <th>flow_18</th>\n      <th>flow_19</th>\n      <th>flow_20</th>\n      <th>train or test</th>\n    </tr>\n  </thead>\n  <tbody>\n    <tr>\n      <th>0</th>\n      <td>2022-01-01 01:00:00</td>\n      <td>29.7</td>\n      <td>14.6</td>\n      <td>54.7</td>\n      <td>40.1</td>\n      <td>3.0</td>\n      <td>49.7</td>\n      <td>10.9</td>\n      <td>1.1</td>\n      <td>5.0</td>\n      <td>...</td>\n      <td>2.914</td>\n      <td>1.7</td>\n      <td>3.2</td>\n      <td>1.3</td>\n      <td>3.5</td>\n      <td>6.8</td>\n      <td>2.902</td>\n      <td>1.806</td>\n      <td>1.4</td>\n      <td>train</td>\n    </tr>\n    <tr>\n      <th>1</th>\n      <td>2022-01-01 02:00:00</td>\n      <td>21.9</td>\n      <td>9.0</td>\n      <td>38.0</td>\n      <td>27.7</td>\n      <td>2.4</td>\n      <td>30.2</td>\n      <td>6.4</td>\n      <td>0.4</td>\n      <td>2.6</td>\n      <td>...</td>\n      <td>1.108</td>\n      <td>1.3</td>\n      <td>2.2</td>\n      <td>0.8</td>\n      <td>2.3</td>\n      <td>4.5</td>\n      <td>2.269</td>\n      <td>0.677</td>\n      <td>0.8</td>\n      <td>train</td>\n    </tr>\n    <tr>\n      <th>2</th>\n      <td>2022-01-01 03:00:00</td>\n      <td>16.9</td>\n      <td>4.5</td>\n      <td>28.9</td>\n      <td>22.9</td>\n      <td>1.3</td>\n      <td>19.7</td>\n      <td>3.8</td>\n      <td>0.5</td>\n      <td>1.4</td>\n      <td>...</td>\n      <td>0.772</td>\n      <td>0.6</td>\n      <td>1.5</td>\n      <td>0.6</td>\n      <td>1.1</td>\n      <td>2.4</td>\n      <td>1.055</td>\n      <td>0.568</td>\n      <td>0.5</td>\n      <td>train</td>\n    </tr>\n    <tr>\n      <th>3</th>\n      <td>2022-01-01 04:00:00</td>\n      <td>14.3</td>\n      <td>3.2</td>\n      <td>25.5</td>\n      <td>20.0</td>\n      <td>1.5</td>\n      <td>15.4</td>\n      <td>2.7</td>\n      <td>0.4</td>\n      <td>1.2</td>\n      <td>...</td>\n      <td>0.414</td>\n      <td>0.2</td>\n      <td>1.2</td>\n      <td>0.7</td>\n      <td>0.8</td>\n      <td>1.8</td>\n      <td>0.677</td>\n      <td>0.284</td>\n      <td>0.2</td>\n      <td>train</td>\n    </tr>\n    <tr>\n      <th>4</th>\n      <td>2022-01-01 05:00:00</td>\n      <td>14.9</td>\n      <td>3.5</td>\n      <td>26.4</td>\n      <td>20.6</td>\n      <td>1.2</td>\n      <td>17.5</td>\n      <td>2.2</td>\n      <td>0.5</td>\n      <td>1.2</td>\n      <td>...</td>\n      <td>0.279</td>\n      <td>0.8</td>\n      <td>1.1</td>\n      <td>0.4</td>\n      <td>0.9</td>\n      <td>1.9</td>\n      <td>0.891</td>\n      <td>0.483</td>\n      <td>0.3</td>\n      <td>train</td>\n    </tr>\n    <tr>\n      <th>...</th>\n      <td>...</td>\n      <td>...</td>\n      <td>...</td>\n      <td>...</td>\n      <td>...</td>\n      <td>...</td>\n      <td>...</td>\n      <td>...</td>\n      <td>...</td>\n      <td>...</td>\n      <td>...</td>\n      <td>...</td>\n      <td>...</td>\n      <td>...</td>\n      <td>...</td>\n      <td>...</td>\n      <td>...</td>\n      <td>...</td>\n      <td>...</td>\n      <td>...</td>\n      <td>...</td>\n    </tr>\n    <tr>\n      <th>5059</th>\n      <td>2022-08-20 20:00:00</td>\n      <td>68.3</td>\n      <td>31.1</td>\n      <td>104.6</td>\n      <td>67.0</td>\n      <td>9.4</td>\n      <td>119.0</td>\n      <td>26.5</td>\n      <td>3.9</td>\n      <td>11.7</td>\n      <td>...</td>\n      <td>5.012</td>\n      <td>4.3</td>\n      <td>5.3</td>\n      <td>3.4</td>\n      <td>8.4</td>\n      <td>14.4</td>\n      <td>12.248</td>\n      <td>4.228</td>\n      <td>4.2</td>\n      <td>train</td>\n    </tr>\n    <tr>\n      <th>5060</th>\n      <td>2022-08-20 21:00:00</td>\n      <td>84.5</td>\n      <td>41.9</td>\n      <td>118.2</td>\n      <td>76.2</td>\n      <td>10.4</td>\n      <td>153.0</td>\n      <td>35.9</td>\n      <td>4.6</td>\n      <td>16.0</td>\n      <td>...</td>\n      <td>7.700</td>\n      <td>7.2</td>\n      <td>8.0</td>\n      <td>5.0</td>\n      <td>11.9</td>\n      <td>17.6</td>\n      <td>16.336</td>\n      <td>6.544</td>\n      <td>5.7</td>\n      <td>train</td>\n    </tr>\n    <tr>\n      <th>5061</th>\n      <td>2022-08-20 22:00:00</td>\n      <td>79.9</td>\n      <td>44.0</td>\n      <td>118.2</td>\n      <td>83.4</td>\n      <td>11.4</td>\n      <td>157.3</td>\n      <td>36.8</td>\n      <td>5.2</td>\n      <td>15.9</td>\n      <td>...</td>\n      <td>8.960</td>\n      <td>7.8</td>\n      <td>7.8</td>\n      <td>4.3</td>\n      <td>12.2</td>\n      <td>20.4</td>\n      <td>15.328</td>\n      <td>7.000</td>\n      <td>6.4</td>\n      <td>train</td>\n    </tr>\n    <tr>\n      <th>5062</th>\n      <td>2022-08-20 23:00:00</td>\n      <td>66.5</td>\n      <td>32.7</td>\n      <td>108.6</td>\n      <td>98.6</td>\n      <td>7.0</td>\n      <td>117.0</td>\n      <td>27.0</td>\n      <td>3.8</td>\n      <td>13.0</td>\n      <td>...</td>\n      <td>7.584</td>\n      <td>6.9</td>\n      <td>7.3</td>\n      <td>4.0</td>\n      <td>11.5</td>\n      <td>15.8</td>\n      <td>15.032</td>\n      <td>5.692</td>\n      <td>5.1</td>\n      <td>train</td>\n    </tr>\n    <tr>\n      <th>5063</th>\n      <td>2022-08-21 00:00:00</td>\n      <td>23.0</td>\n      <td>19.9</td>\n      <td>91.2</td>\n      <td>53.0</td>\n      <td>4.5</td>\n      <td>64.4</td>\n      <td>17.6</td>\n      <td>2.5</td>\n      <td>6.7</td>\n      <td>...</td>\n      <td>4.480</td>\n      <td>5.0</td>\n      <td>3.1</td>\n      <td>3.0</td>\n      <td>5.4</td>\n      <td>8.9</td>\n      <td>9.632</td>\n      <td>3.048</td>\n      <td>3.2</td>\n      <td>train</td>\n    </tr>\n  </tbody>\n</table>\n<p>5064 rows × 22 columns</p>\n</div>"
     },
     "execution_count": 8,
     "metadata": {},
     "output_type": "execute_result"
    }
   ],
   "source": [
    "import pandas as pd\n",
    "\n",
    "dataset = pd.DataFrame()\n",
    "for i in range(1, 5):\n",
    "    dataset = pd.concat([dataset, pd.read_csv(f\"data/train_and_test/train{i}.csv\")])\n",
    "\n",
    "dataset.reset_index(drop=True, inplace=True)\n",
    "dataset"
   ]
  },
  {
   "cell_type": "code",
   "execution_count": 12,
   "outputs": [],
   "source": [
    "train = dataset.iloc[:-168]\n",
    "train.reset_index(drop=True, inplace=True)\n",
    "train.to_csv(\"train.csv\", index=False)\n",
    "\n",
    "test = dataset.iloc[-168:]\n",
    "test.reset_index(drop=True, inplace=True)\n",
    "test.to_csv(\"test.csv\", index=False)"
   ],
   "metadata": {
    "collapsed": false,
    "pycharm": {
     "name": "#%%\n"
    }
   }
  },
  {
   "cell_type": "code",
   "execution_count": null,
   "outputs": [],
   "source": [],
   "metadata": {
    "collapsed": false,
    "pycharm": {
     "name": "#%%\n"
    }
   }
  }
 ],
 "metadata": {
  "kernelspec": {
   "display_name": "Python 3",
   "language": "python",
   "name": "python3"
  },
  "language_info": {
   "codemirror_mode": {
    "name": "ipython",
    "version": 2
   },
   "file_extension": ".py",
   "mimetype": "text/x-python",
   "name": "python",
   "nbconvert_exporter": "python",
   "pygments_lexer": "ipython2",
   "version": "2.7.6"
  }
 },
 "nbformat": 4,
 "nbformat_minor": 0
}